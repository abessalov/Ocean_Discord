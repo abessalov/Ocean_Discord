{
 "cells": [
  {
   "cell_type": "markdown",
   "id": "57cc043a-a5db-4d1b-89d2-c9cdfdeccbfb",
   "metadata": {
    "tags": []
   },
   "source": [
    "### Data"
   ]
  },
  {
   "cell_type": "code",
   "execution_count": 1,
   "id": "1d87cd8a-9856-4d9d-9748-07f4947883f8",
   "metadata": {},
   "outputs": [
    {
     "name": "stdout",
     "output_type": "stream",
     "text": [
      "(84754, 21)\n"
     ]
    },
    {
     "data": {
      "text/html": [
       "<div>\n",
       "<style scoped>\n",
       "    .dataframe tbody tr th:only-of-type {\n",
       "        vertical-align: middle;\n",
       "    }\n",
       "\n",
       "    .dataframe tbody tr th {\n",
       "        vertical-align: top;\n",
       "    }\n",
       "\n",
       "    .dataframe thead th {\n",
       "        text-align: right;\n",
       "    }\n",
       "</style>\n",
       "<table border=\"1\" class=\"dataframe\">\n",
       "  <thead>\n",
       "    <tr style=\"text-align: right;\">\n",
       "      <th></th>\n",
       "      <th>AuthorID</th>\n",
       "      <th>Author</th>\n",
       "      <th>Date</th>\n",
       "      <th>Content</th>\n",
       "      <th>Attachments</th>\n",
       "      <th>Reactions</th>\n",
       "      <th>Date_day</th>\n",
       "      <th>Date_month</th>\n",
       "      <th>Date_quarter</th>\n",
       "      <th>id1</th>\n",
       "      <th>Channel1</th>\n",
       "      <th>Channel2</th>\n",
       "      <th>Channel2_img</th>\n",
       "      <th>flg_bot</th>\n",
       "      <th>Content2</th>\n",
       "      <th>cnt_messages</th>\n",
       "      <th>cnt_reactions</th>\n",
       "      <th>cnt_attachments</th>\n",
       "      <th>cnt_words</th>\n",
       "      <th>cnt_chars</th>\n",
       "      <th>flg_join</th>\n",
       "    </tr>\n",
       "  </thead>\n",
       "  <tbody>\n",
       "    <tr>\n",
       "      <th>30165</th>\n",
       "      <td>451343325018980353</td>\n",
       "      <td>sheridan_oceanprotocol</td>\n",
       "      <td>2019-08-20 19:55:00</td>\n",
       "      <td>Joined the server.</td>\n",
       "      <td>NaN</td>\n",
       "      <td>NaN</td>\n",
       "      <td>2019-08-20</td>\n",
       "      <td>2019-08</td>\n",
       "      <td>2019Q3</td>\n",
       "      <td>30165</td>\n",
       "      <td>GENERAL</td>\n",
       "      <td>general-chat</td>\n",
       "      <td>💭</td>\n",
       "      <td>0</td>\n",
       "      <td>joined the server</td>\n",
       "      <td>0</td>\n",
       "      <td>0</td>\n",
       "      <td>0</td>\n",
       "      <td>3</td>\n",
       "      <td>18</td>\n",
       "      <td>1</td>\n",
       "    </tr>\n",
       "    <tr>\n",
       "      <th>30166</th>\n",
       "      <td>236850565382930432</td>\n",
       "      <td>kremalicious</td>\n",
       "      <td>2019-08-20 22:22:00</td>\n",
       "      <td>Joined the server.</td>\n",
       "      <td>NaN</td>\n",
       "      <td>NaN</td>\n",
       "      <td>2019-08-20</td>\n",
       "      <td>2019-08</td>\n",
       "      <td>2019Q3</td>\n",
       "      <td>30166</td>\n",
       "      <td>GENERAL</td>\n",
       "      <td>general-chat</td>\n",
       "      <td>💭</td>\n",
       "      <td>0</td>\n",
       "      <td>joined the server</td>\n",
       "      <td>0</td>\n",
       "      <td>0</td>\n",
       "      <td>0</td>\n",
       "      <td>3</td>\n",
       "      <td>18</td>\n",
       "      <td>1</td>\n",
       "    </tr>\n",
       "  </tbody>\n",
       "</table>\n",
       "</div>"
      ],
      "text/plain": [
       "                 AuthorID                  Author                Date  \\\n",
       "30165  451343325018980353  sheridan_oceanprotocol 2019-08-20 19:55:00   \n",
       "30166  236850565382930432            kremalicious 2019-08-20 22:22:00   \n",
       "\n",
       "                  Content Attachments Reactions    Date_day Date_month  \\\n",
       "30165  Joined the server.         NaN       NaN  2019-08-20    2019-08   \n",
       "30166  Joined the server.         NaN       NaN  2019-08-20    2019-08   \n",
       "\n",
       "      Date_quarter    id1 Channel1      Channel2 Channel2_img  flg_bot  \\\n",
       "30165       2019Q3  30165  GENERAL  general-chat            💭        0   \n",
       "30166       2019Q3  30166  GENERAL  general-chat            💭        0   \n",
       "\n",
       "                Content2  cnt_messages  cnt_reactions  cnt_attachments  \\\n",
       "30165  joined the server             0              0                0   \n",
       "30166  joined the server             0              0                0   \n",
       "\n",
       "       cnt_words  cnt_chars  flg_join  \n",
       "30165          3         18         1  \n",
       "30166          3         18         1  "
      ]
     },
     "execution_count": 1,
     "metadata": {},
     "output_type": "execute_result"
    }
   ],
   "source": [
    "df = pd.read_pickle('data/df.pkl')\n",
    "print(df.shape)\n",
    "df[:2]"
   ]
  },
  {
   "cell_type": "code",
   "execution_count": 2,
   "id": "ea0e573d-c814-4ebd-ac91-c694051337ea",
   "metadata": {
    "tags": []
   },
   "outputs": [
    {
     "name": "stdout",
     "output_type": "stream",
     "text": [
      "(1071, 21)\n"
     ]
    }
   ],
   "source": [
    "# text preprocessing\n",
    "# df['Content'] = df['Content'].fillna('').map(lambda x: re.sub('http.*', 'http', x))\n",
    "# df['Content'] = df['Content'].fillna('').map(lambda x: re.sub('@[A-Za-z0-9_]+','user', x))\n",
    "\n",
    "# filtering\n",
    "f0 = df['cnt_words'] > 1\n",
    "f1 = df['flg_join'] == 0\n",
    "f2 = df['flg_bot'] == 0\n",
    "f3 = df['Content2'].str.contains('issue|error|bug|problem|stuck')\n",
    "\n",
    "filt = f0&f1&f2&f3\n",
    "\n",
    "df1 = df[filt].sort_values(['Channel2','Date'])\n",
    "print(df1.shape)"
   ]
  },
  {
   "cell_type": "code",
   "execution_count": 3,
   "id": "393fe241-0d4e-476c-b9a5-5c2ec030632e",
   "metadata": {
    "tags": []
   },
   "outputs": [
    {
     "name": "stdout",
     "output_type": "stream",
     "text": [
      "56473\n"
     ]
    },
    {
     "data": {
      "image/png": "[encoded data removed]",
      "text/plain": [
       "<Figure size 500x300 with 1 Axes>"
      ]
     },
     "metadata": {},
     "output_type": "display_data"
    }
   ],
   "source": [
    "print(df1.cnt_words.sum())\n",
    "_ = df1['cnt_words'].value_counts().sort_index().plot(figsize = (5,3))"
   ]
  },
  {
   "cell_type": "code",
   "execution_count": 4,
   "id": "9998f7aa-8a90-4976-866c-14cda8974460",
   "metadata": {
    "tags": []
   },
   "outputs": [
    {
     "data": {
      "text/plain": [
       "1071"
      ]
     },
     "execution_count": 4,
     "metadata": {},
     "output_type": "execute_result"
    }
   ],
   "source": [
    "text = list(df1['Content'])\n",
    "len(text)"
   ]
  },
  {
   "cell_type": "markdown",
   "id": "dd8c19c1-b76a-4eb9-97c9-0aaf1599b36c",
   "metadata": {
    "tags": []
   },
   "source": [
    "### Get GPT-3.5 openai embeddings"
   ]
  },
  {
   "cell_type": "code",
   "execution_count": 5,
   "id": "c099adc6-c7f9-45ce-a97a-96e266396898",
   "metadata": {
    "tags": []
   },
   "outputs": [
    {
     "data": {
      "text/plain": [
       "True"
      ]
     },
     "execution_count": 5,
     "metadata": {},
     "output_type": "execute_result"
    }
   ],
   "source": [
    "import os\n",
    "\n",
    "import hdbscan\n",
    "import requests\n",
    "\n",
    "import numpy as np\n",
    "import pandas as pd\n",
    "import plotly.express as px\n",
    "\n",
    "from langchain import LLMChain\n",
    "from langchain.chat_models import ChatOpenAI\n",
    "# from langchain.embeddings.openai import OpenAIEmbeddings\n",
    "from langchain_openai import OpenAIEmbeddings\n",
    "from langchain.prompts.chat import (\n",
    "    ChatPromptTemplate,\n",
    "    SystemMessagePromptTemplate,\n",
    "    HumanMessagePromptTemplate,\n",
    ")\n",
    "from sklearn.manifold import TSNE\n",
    "from dotenv import load_dotenv\n",
    "\n",
    "load_dotenv()"
   ]
  },
  {
   "cell_type": "code",
   "execution_count": 6,
   "id": "e6f8d574-f831-4558-8204-44f531d99bb8",
   "metadata": {
    "tags": []
   },
   "outputs": [],
   "source": [
    "OPENAI_SECRET_KEY = os.getenv('OPENAI_SECRET_KEY')\n",
    "model_emb = OpenAIEmbeddings(api_key = OPENAI_SECRET_KEY, chunk_size=1000)"
   ]
  },
  {
   "cell_type": "code",
   "execution_count": 7,
   "id": "60f1092c-1f06-423b-a4fd-de1ee0af3ef4",
   "metadata": {
    "tags": []
   },
   "outputs": [],
   "source": [
    "list_emb = model_emb.embed_documents(text)"
   ]
  },
  {
   "cell_type": "markdown",
   "id": "3cfea0a6-88c8-4fd1-a3df-65bbb6a9441f",
   "metadata": {},
   "source": [
    "### Create clusters"
   ]
  },
  {
   "cell_type": "code",
   "execution_count": 8,
   "id": "1ac32700-2479-4543-859b-5e73a64478a2",
   "metadata": {
    "tags": []
   },
   "outputs": [
    {
     "data": {
      "text/html": [
       "<style>#sk-container-id-1 {color: black;}#sk-container-id-1 pre{padding: 0;}#sk-container-id-1 div.sk-toggleable {background-color: white;}#sk-container-id-1 label.sk-toggleable__label {cursor: pointer;display: block;width: 100%;margin-bottom: 0;padding: 0.3em;box-sizing: border-box;text-align: center;}#sk-container-id-1 label.sk-toggleable__label-arrow:before {content: \"▸\";float: left;margin-right: 0.25em;color: #696969;}#sk-container-id-1 label.sk-toggleable__label-arrow:hover:before {color: black;}#sk-container-id-1 div.sk-estimator:hover label.sk-toggleable__label-arrow:before {color: black;}#sk-container-id-1 div.sk-toggleable__content {max-height: 0;max-width: 0;overflow: hidden;text-align: left;background-color: #f0f8ff;}#sk-container-id-1 div.sk-toggleable__content pre {margin: 0.2em;color: black;border-radius: 0.25em;background-color: #f0f8ff;}#sk-container-id-1 input.sk-toggleable__control:checked~div.sk-toggleable__content {max-height: 200px;max-width: 100%;overflow: auto;}#sk-container-id-1 input.sk-toggleable__control:checked~label.sk-toggleable__label-arrow:before {content: \"▾\";}#sk-container-id-1 div.sk-estimator input.sk-toggleable__control:checked~label.sk-toggleable__label {background-color: #d4ebff;}#sk-container-id-1 div.sk-label input.sk-toggleable__control:checked~label.sk-toggleable__label {background-color: #d4ebff;}#sk-container-id-1 input.sk-hidden--visually {border: 0;clip: rect(1px 1px 1px 1px);clip: rect(1px, 1px, 1px, 1px);height: 1px;margin: -1px;overflow: hidden;padding: 0;position: absolute;width: 1px;}#sk-container-id-1 div.sk-estimator {font-family: monospace;background-color: #f0f8ff;border: 1px dotted black;border-radius: 0.25em;box-sizing: border-box;margin-bottom: 0.5em;}#sk-container-id-1 div.sk-estimator:hover {background-color: #d4ebff;}#sk-container-id-1 div.sk-parallel-item::after {content: \"\";width: 100%;border-bottom: 1px solid gray;flex-grow: 1;}#sk-container-id-1 div.sk-label:hover label.sk-toggleable__label {background-color: #d4ebff;}#sk-container-id-1 div.sk-serial::before {content: \"\";position: absolute;border-left: 1px solid gray;box-sizing: border-box;top: 0;bottom: 0;left: 50%;z-index: 0;}#sk-container-id-1 div.sk-serial {display: flex;flex-direction: column;align-items: center;background-color: white;padding-right: 0.2em;padding-left: 0.2em;position: relative;}#sk-container-id-1 div.sk-item {position: relative;z-index: 1;}#sk-container-id-1 div.sk-parallel {display: flex;align-items: stretch;justify-content: center;background-color: white;position: relative;}#sk-container-id-1 div.sk-item::before, #sk-container-id-1 div.sk-parallel-item::before {content: \"\";position: absolute;border-left: 1px solid gray;box-sizing: border-box;top: 0;bottom: 0;left: 50%;z-index: -1;}#sk-container-id-1 div.sk-parallel-item {display: flex;flex-direction: column;z-index: 1;position: relative;background-color: white;}#sk-container-id-1 div.sk-parallel-item:first-child::after {align-self: flex-end;width: 50%;}#sk-container-id-1 div.sk-parallel-item:last-child::after {align-self: flex-start;width: 50%;}#sk-container-id-1 div.sk-parallel-item:only-child::after {width: 0;}#sk-container-id-1 div.sk-dashed-wrapped {border: 1px dashed gray;margin: 0 0.4em 0.5em 0.4em;box-sizing: border-box;padding-bottom: 0.4em;background-color: white;}#sk-container-id-1 div.sk-label label {font-family: monospace;font-weight: bold;display: inline-block;line-height: 1.2em;}#sk-container-id-1 div.sk-label-container {text-align: center;}#sk-container-id-1 div.sk-container {/* jupyter's `normalize.less` sets `[hidden] { display: none; }` but bootstrap.min.css set `[hidden] { display: none !important; }` so we also need the `!important` here to be able to override the default hidden behavior on the sphinx rendered scikit-learn.org. See: https://github.com/scikit-learn/scikit-learn/issues/21755 */display: inline-block !important;position: relative;}#sk-container-id-1 div.sk-text-repr-fallback {display: none;}</style><div id=\"sk-container-id-1\" class=\"sk-top-container\"><div class=\"sk-text-repr-fallback\"><pre>HDBSCAN(alpha=1.1, min_cluster_size=2, min_samples=1)</pre><b>In a Jupyter environment, please rerun this cell to show the HTML representation or trust the notebook. <br />On GitHub, the HTML representation is unable to render, please try loading this page with nbviewer.org.</b></div><div class=\"sk-container\" hidden><div class=\"sk-item\"><div class=\"sk-estimator sk-toggleable\"><input class=\"sk-toggleable__control sk-hidden--visually\" id=\"sk-estimator-id-1\" type=\"checkbox\" checked><label for=\"sk-estimator-id-1\" class=\"sk-toggleable__label sk-toggleable__label-arrow\">HDBSCAN</label><div class=\"sk-toggleable__content\"><pre>HDBSCAN(alpha=1.1, min_cluster_size=2, min_samples=1)</pre></div></div></div></div></div>"
      ],
      "text/plain": [
       "HDBSCAN(alpha=1.1, min_cluster_size=2, min_samples=1)"
      ]
     },
     "execution_count": 8,
     "metadata": {},
     "output_type": "execute_result"
    }
   ],
   "source": [
    "model_cl = hdbscan.HDBSCAN(gen_min_span_tree=False, metric='euclidean', min_samples=1, min_cluster_size=2, alpha = 1.1)\n",
    "model_cl.fit(list_emb)"
   ]
  },
  {
   "cell_type": "code",
   "execution_count": 9,
   "id": "2b2acecb-4d08-43e1-9ff8-f04a6a35e598",
   "metadata": {
    "tags": []
   },
   "outputs": [],
   "source": [
    "df1[\"cluster\"] =  model_cl.labels_"
   ]
  },
  {
   "cell_type": "markdown",
   "id": "4528cff2-e643-41ed-afe4-5dcc10ba51ee",
   "metadata": {
    "tags": []
   },
   "source": [
    "### View results"
   ]
  },
  {
   "cell_type": "code",
   "execution_count": 11,
   "id": "cc505c89-88be-4fe8-ae3c-317e5928a2c4",
   "metadata": {
    "tags": []
   },
   "outputs": [
    {
     "data": {
      "text/html": [
       "<div>\n",
       "<style scoped>\n",
       "    .dataframe tbody tr th:only-of-type {\n",
       "        vertical-align: middle;\n",
       "    }\n",
       "\n",
       "    .dataframe tbody tr th {\n",
       "        vertical-align: top;\n",
       "    }\n",
       "\n",
       "    .dataframe thead th {\n",
       "        text-align: right;\n",
       "    }\n",
       "</style>\n",
       "<table border=\"1\" class=\"dataframe\">\n",
       "  <thead>\n",
       "    <tr style=\"text-align: right;\">\n",
       "      <th></th>\n",
       "      <th>Date</th>\n",
       "      <th>Author</th>\n",
       "      <th>Channel2</th>\n",
       "      <th>Content</th>\n",
       "      <th>cluster</th>\n",
       "      <th>cluster_len</th>\n",
       "    </tr>\n",
       "  </thead>\n",
       "  <tbody>\n",
       "    <tr>\n",
       "      <th>15872</th>\n",
       "      <td>2023-03-29 02:11:00</td>\n",
       "      <td>swish24_08</td>\n",
       "      <td>ai-fun</td>\n",
       "      <td>He is kinda right, the problem is i'm constant...</td>\n",
       "      <td>-1</td>\n",
       "      <td>5</td>\n",
       "    </tr>\n",
       "    <tr>\n",
       "      <th>16088</th>\n",
       "      <td>2023-03-29 06:55:00</td>\n",
       "      <td>lukas85#6738</td>\n",
       "      <td>ai-fun</td>\n",
       "      <td>@OceanDiffusion puzzle humans are stuck in</td>\n",
       "      <td>-1</td>\n",
       "      <td>5</td>\n",
       "    </tr>\n",
       "    <tr>\n",
       "      <th>16828</th>\n",
       "      <td>2023-04-08 04:24:00</td>\n",
       "      <td>nickscavuzzo33</td>\n",
       "      <td>ai-fun</td>\n",
       "      <td>@OceanDiffusion blockchain solving problems</td>\n",
       "      <td>-1</td>\n",
       "      <td>5</td>\n",
       "    </tr>\n",
       "    <tr>\n",
       "      <th>16977</th>\n",
       "      <td>2023-04-16 05:52:00</td>\n",
       "      <td>lukas85#6738</td>\n",
       "      <td>ai-fun</td>\n",
       "      <td>it gets stuck sometimes, maybe it has internal...</td>\n",
       "      <td>-1</td>\n",
       "      <td>5</td>\n",
       "    </tr>\n",
       "    <tr>\n",
       "      <th>16986</th>\n",
       "      <td>2023-04-16 05:55:00</td>\n",
       "      <td>lukas85#6738</td>\n",
       "      <td>ai-fun</td>\n",
       "      <td>@OceanDiffusion are you having issue generatin...</td>\n",
       "      <td>-1</td>\n",
       "      <td>5</td>\n",
       "    </tr>\n",
       "  </tbody>\n",
       "</table>\n",
       "</div>"
      ],
      "text/plain": [
       "                     Date          Author Channel2  \\\n",
       "15872 2023-03-29 02:11:00      swish24_08   ai-fun   \n",
       "16088 2023-03-29 06:55:00    lukas85#6738   ai-fun   \n",
       "16828 2023-04-08 04:24:00  nickscavuzzo33   ai-fun   \n",
       "16977 2023-04-16 05:52:00    lukas85#6738   ai-fun   \n",
       "16986 2023-04-16 05:55:00    lukas85#6738   ai-fun   \n",
       "\n",
       "                                                 Content  cluster  cluster_len  \n",
       "15872  He is kinda right, the problem is i'm constant...       -1            5  \n",
       "16088         @OceanDiffusion puzzle humans are stuck in       -1            5  \n",
       "16828        @OceanDiffusion blockchain solving problems       -1            5  \n",
       "16977  it gets stuck sometimes, maybe it has internal...       -1            5  \n",
       "16986  @OceanDiffusion are you having issue generatin...       -1            5  "
      ]
     },
     "execution_count": 11,
     "metadata": {},
     "output_type": "execute_result"
    }
   ],
   "source": [
    "df1['cluster_len'] = df1.groupby(['Channel2','cluster'])['AuthorID'].transform(len)\n",
    "feats = ['Date','Author','Channel2','Content','cluster','cluster_len']\n",
    "df1[feats][:5]"
   ]
  },
  {
   "cell_type": "code",
   "execution_count": 12,
   "id": "5a3b68a5-0e5d-4cb4-a273-9e8aa84954e8",
   "metadata": {
    "tags": []
   },
   "outputs": [
    {
     "data": {
      "text/plain": [
       "((879, 23), 27)"
      ]
     },
     "execution_count": 12,
     "metadata": {},
     "output_type": "execute_result"
    }
   ],
   "source": [
    "f1 = df1['cluster_len'] > 2\n",
    "f2 = df1['cluster'] != -1\n",
    "df1[f1].shape, df1[f1&f2].cluster.nunique()"
   ]
  },
  {
   "cell_type": "code",
   "execution_count": 14,
   "id": "55d53373-668d-403a-885f-5386cb505550",
   "metadata": {
    "tags": []
   },
   "outputs": [],
   "source": [
    "# ['general-chat', 'ambassadors', 'treasure-hunter', 'ask-the-ai', 'predictoor', 'data-science-hub'][0]\n",
    "f0 = df1['Channel2'] == 'general-chat'\n",
    "f1 = df1['cluster'] != -1\n",
    "f2 = df1['cluster_len'] > 2\n",
    "x = df1[f1&f2].groupby(['cluster']).Content.agg(lambda x: '\\n'.join(x))"
   ]
  },
  {
   "cell_type": "code",
   "execution_count": 16,
   "id": "9313052a-5030-4246-bcbd-68b1d33738ea",
   "metadata": {
    "tags": []
   },
   "outputs": [],
   "source": [
    "# pd.set_option('display.max_colwidth',1500)\n",
    "# for k,v in dict(x).items():\n",
    "#     print('---------')\n",
    "#     print(k)\n",
    "#     print(v)"
   ]
  },
  {
   "cell_type": "code",
   "execution_count": null,
   "id": "309735d2-afa7-4476-a159-62807154a79d",
   "metadata": {},
   "outputs": [],
   "source": [
    "# User-related: \n",
    "# \tPredictoor:\n",
    "# \t\tI am trying to deploy my bot on a cloud run service.\n",
    "\n",
    "# System-related:\n",
    "# \tPredictoor:\n",
    "# \t\tThere was a problem on our end submitting the trueVal for the past few slots...\n",
    "# \t\tIs the difficulty in claiming rewards related to subgraph syncing or other issues?\n",
    "# \tChallenges:\n",
    "# \t\tThere was an issue that came up this weekend relating to problems downloading the data sets provided in our newest challenge\n",
    "# \tGeneral:\n",
    "# \t\tplease open a thread in #🐛┃tech-issues\n",
    "\t\n",
    "# External factors:\n",
    "# \tQuestbook (OLD):\n",
    "# \t\tYou're right there seems to be a bug on Questbook..\n",
    "# \tDatalatte:\n",
    "# \t\tdatalatte I’ve done the survey but it’s having issues submitting..showing there is something wrong\n",
    "# \tGeneral:\n",
    "# \t\tThere are no liquity pools on the BSC chain for OCEAN. That is the problem. Binance closed down in my country(Canada)\n"
   ]
  }
 ],
 "metadata": {
  "kernelspec": {
   "display_name": "Python 3 (ipykernel)",
   "language": "python",
   "name": "python3"
  },
  "language_info": {
   "codemirror_mode": {
    "name": "ipython",
    "version": 3
   },
   "file_extension": ".py",
   "mimetype": "text/x-python",
   "name": "python",
   "nbconvert_exporter": "python",
   "pygments_lexer": "ipython3",
   "version": "3.11.5"
  }
 },
 "nbformat": 4,
 "nbformat_minor": 5
}
